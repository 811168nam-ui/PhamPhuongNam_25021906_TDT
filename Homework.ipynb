{
 "cells": [
  {
   "cell_type": "code",
   "execution_count": null,
   "id": "5aaa9bb0",
   "metadata": {},
   "outputs": [
    {
     "name": "stdout",
     "output_type": "stream",
     "text": [
      "11973871686\n"
     ]
    }
   ],
   "source": [
    "#Bài 1 in gấp đôi số n\n",
    "n=int(input(\"nhập số n:\"))\n",
    "print(2*n)"
   ]
  },
  {
   "cell_type": "code",
   "execution_count": null,
   "id": "9f24f480",
   "metadata": {},
   "outputs": [
    {
     "name": "stdout",
     "output_type": "stream",
     "text": [
      "245.375\n"
     ]
    }
   ],
   "source": [
    "#Bài 2 tính diện tích mảnh đất hình chữ nhật đã trừ đi diện tích hình tròn\n",
    "hập chiều dài a,b liên tiếp bằng map\n",
    "a, b = map(float,input(\"Nhập chiều rộng và chiều dài mảnh đất, cách nhau bởi dấu cách: \").split())\n",
    "#Tính diện tích \n",
    "Circle_Area=(a**2)/4*3.14\n",
    "Rectangle_Area=a*b\n",
    "#Kết quả\n",
    "S=Rectangle_Area - Circle_Area\n",
    "#in ra kết quả\n",
    "print(round(S, 2))"
   ]
  },
  {
   "cell_type": "code",
   "execution_count": null,
   "id": "6c064346",
   "metadata": {},
   "outputs": [],
   "source": [
    "#Bài tập tuần 4: Nhập 1 số nguyên dương n, in ra tổng các số =< n\n",
    "n=int(input(\"Nhập số nguyên dương n:\"))\n",
    "S=0\n",
    "for i in range(0,n+1):\n",
    "    S+=i\n",
    "print(S)\n",
    "\n"
   ]
  },
  {
   "cell_type": "code",
   "execution_count": null,
   "id": "63a53a90",
   "metadata": {},
   "outputs": [],
   "source": [
    "#Bài tập tuần 4:Nhập 1 số nguyên đến khi được 1 số nguyên dương\n",
    "n=int(input(\"Nhập số nguyên dương n:\"))\n",
    "for i in range(10):\n",
    "    if n>0:\n",
    "        print(\"Số nguyên dương bạn vừa nhập là:\",n)\n",
    "        break\n",
    "    else:\n",
    "        n=int(input(\"Nhập lại số nguyên dương n:\"))"
   ]
  },
  {
   "cell_type": "code",
   "execution_count": 3,
   "id": "b4b81275",
   "metadata": {},
   "outputs": [
    {
     "name": "stdout",
     "output_type": "stream",
     "text": [
      "-5\n"
     ]
    }
   ],
   "source": [
    "#Bài tập tuần 4: Tính giai thừa của 1 số nguyên n cho trước\n",
    "try:\n",
    "    n=int(input(\"Nhập số nguyên n:\"))\n",
    "    for i in range(1,n):\n",
    "        n*=i\n",
    "    print(n)\n",
    "\n",
    "except ValueError:\n",
    "    print(\"Vui lòng nhập số nguyên dương!\")"
   ]
  },
  {
   "cell_type": "code",
   "execution_count": 10,
   "id": "1e2320ed",
   "metadata": {},
   "outputs": [
    {
     "name": "stdout",
     "output_type": "stream",
     "text": [
      "Số chữ số của số nguyên n là: 2\n"
     ]
    }
   ],
   "source": [
    "#Bài tập tuần 3: Nhập vào 1 số nguyên n và in ra số các chữ số của số đó\n",
    "try:\n",
    "    n=int(input(\"Nhập số nguyên n:\"))\n",
    "    dem=1\n",
    "    n=abs(n)\n",
    "    while n>=10:\n",
    "         n//=10\n",
    "         dem+=1  \n",
    "    print(\"Số chữ số của số nguyên n là:\",dem)      \n",
    "except ValueError:\n",
    "    print(\"Vui lòng nhập số nguyên!\") \n"
   ]
  },
  {
   "cell_type": "code",
   "execution_count": null,
   "id": "7816c5a6",
   "metadata": {},
   "outputs": [
    {
     "name": "stdout",
     "output_type": "stream",
     "text": [
      "Tổng các số nguyên tố trong đoạn [a,b] là: 100\n"
     ]
    }
   ],
   "source": [
    "#Bài tập tuần 4: Nhập 2 số nguyên dương a,b và tính tổng các số nguyên tố trong đoạn [a,b]\n",
    "import math\n",
    "a,b=map(int,input(\"Nhập 2 số nguyên dương a,b cách nhau bởi dấu cách:\").split())\n",
    "def prime_check(n):\n",
    "    if n<2:\n",
    "        return False\n",
    "    for i in range(2,int(math.sqrt(n))+1):\n",
    "        if n%i==0:\n",
    "            return False\n",
    "    return True\n",
    "def sum_prime(a,b):\n",
    "    S=0\n",
    "    for i in range(a,b+1):\n",
    "        if prime_check(i):\n",
    "            S+=i\n",
    "    return S\n",
    "print(\"Tổng các số nguyên tố trong đoạn [a,b] là:\",sum_prime(a,b))\n",
    "    \n"
   ]
  }
 ],
 "metadata": {
  "kernelspec": {
   "display_name": "Python 3",
   "language": "python",
   "name": "python3"
  },
  "language_info": {
   "codemirror_mode": {
    "name": "ipython",
    "version": 3
   },
   "file_extension": ".py",
   "mimetype": "text/x-python",
   "name": "python",
   "nbconvert_exporter": "python",
   "pygments_lexer": "ipython3",
   "version": "3.11.9"
  }
 },
 "nbformat": 4,
 "nbformat_minor": 5
}
