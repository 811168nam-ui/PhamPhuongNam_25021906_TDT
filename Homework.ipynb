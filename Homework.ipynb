{
 "cells": [
  {
   "cell_type": "code",
   "execution_count": 1,
   "id": "5aaa9bb0",
   "metadata": {},
   "outputs": [
    {
     "name": "stdout",
     "output_type": "stream",
     "text": [
      "11973871686\n"
     ]
    }
   ],
   "source": [
    "n=int(input(\"nhập số n:\"))\n",
    "print(2*n)"
   ]
  },
  {
   "cell_type": "code",
   "execution_count": null,
   "id": "9f24f480",
   "metadata": {},
   "outputs": [
    {
     "name": "stdout",
     "output_type": "stream",
     "text": [
      "245.375\n"
     ]
    }
   ],
   "source": [
    "#Nhập chiều dài a,b liên tiếp bằng map\n",
    "a, b = map(float,input(\"Nhập chiều rộng và chiều dài mảnh đất, cách nhau bởi dấu cách: \").split())\n",
    "#Tính diện tích \n",
    "Circle_Area=(a**2)/4*3.14\n",
    "Rectangle_Area=a*b\n",
    "#Kết quả\n",
    "S=Rectangle_Area - Circle_Area\n",
    "#in ra kết quả\n",
    "print(round(S, 2))"
   ]
  }
 ],
 "metadata": {
  "kernelspec": {
   "display_name": "Python 3",
   "language": "python",
   "name": "python3"
  },
  "language_info": {
   "codemirror_mode": {
    "name": "ipython",
    "version": 3
   },
   "file_extension": ".py",
   "mimetype": "text/x-python",
   "name": "python",
   "nbconvert_exporter": "python",
   "pygments_lexer": "ipython3",
   "version": "3.11.9"
  }
 },
 "nbformat": 4,
 "nbformat_minor": 5
}
