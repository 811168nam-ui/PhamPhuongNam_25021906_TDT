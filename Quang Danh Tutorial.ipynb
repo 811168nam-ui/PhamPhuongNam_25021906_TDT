{
 "cells": [
  {
   "cell_type": "code",
   "execution_count": 1,
   "id": "5aaa9bb0",
   "metadata": {},
   "outputs": [
    {
     "name": "stdout",
     "output_type": "stream",
     "text": [
      "11973871686\n"
     ]
    }
   ],
   "source": [
    "n=int(input(\"nhập số n:\"))\n",
    "print(2*n)"
   ]
  },
  {
   "cell_type": "code",
   "execution_count": 1,
   "id": "9f24f480",
   "metadata": {},
   "outputs": [
    {
     "name": "stdout",
     "output_type": "stream",
     "text": [
      "CS3-2025\n"
     ]
    }
   ],
   "source": [
    "print(\"CS3-2025\")"
   ]
  }
 ],
 "metadata": {
  "kernelspec": {
   "display_name": "Python 3",
   "language": "python",
   "name": "python3"
  },
  "language_info": {
   "codemirror_mode": {
    "name": "ipython",
    "version": 3
   },
   "file_extension": ".py",
   "mimetype": "text/x-python",
   "name": "python",
   "nbconvert_exporter": "python",
   "pygments_lexer": "ipython3",
   "version": "3.11.9"
  }
 },
 "nbformat": 4,
 "nbformat_minor": 5
}
